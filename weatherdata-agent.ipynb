{
 "cells": [
  {
   "cell_type": "code",
   "execution_count": null,
   "id": "689633c3",
   "metadata": {},
   "outputs": [],
   "source": [
    "import os\n",
    "os.environ[\"GOOGLE_API_KEY\"] = \"api_key\""
   ]
  },
  {
   "cell_type": "code",
   "execution_count": 2,
   "id": "421023f0",
   "metadata": {},
   "outputs": [],
   "source": [
    "!pip install -q langchain-openai langchain-community langchain-core requests duckduckgo-search"
   ]
  },
  {
   "cell_type": "code",
   "execution_count": 4,
   "id": "ecb7e07c",
   "metadata": {},
   "outputs": [
    {
     "name": "stderr",
     "output_type": "stream",
     "text": [
      "/home/ashutosh/Desktop/LLM/RAG/.venv/lib/python3.12/site-packages/tqdm/auto.py:21: TqdmWarning: IProgress not found. Please update jupyter and ipywidgets. See https://ipywidgets.readthedocs.io/en/stable/user_install.html\n",
      "  from .autonotebook import tqdm as notebook_tqdm\n"
     ]
    }
   ],
   "source": [
    "from langchain_openai import ChatOpenAI\n",
    "from langchain_google_genai import ChatGoogleGenerativeAI\n",
    "from langchain_core.tools import tool\n",
    "import requests"
   ]
  },
  {
   "cell_type": "code",
   "execution_count": 5,
   "id": "df91ad2f",
   "metadata": {},
   "outputs": [],
   "source": [
    "from langchain_community.tools import DuckDuckGoSearchRun\n",
    "\n",
    "search_tool = DuckDuckGoSearchRun()"
   ]
  },
  {
   "cell_type": "code",
   "execution_count": null,
   "id": "665b7f0d",
   "metadata": {},
   "outputs": [],
   "source": [
    "@tool\n",
    "def get_weather_data(city: str) -> str:\n",
    "  \"\"\"\n",
    "  This function fetches the current weather data for a given city\n",
    "  \"\"\"\n",
    "  url = f'https://api.weatherstack.com/current?access_key=your_api_key&query={city}'\n",
    "\n",
    "  response = requests.get(url)\n",
    "\n",
    "  return response.json()"
   ]
  },
  {
   "cell_type": "code",
   "execution_count": 8,
   "id": "008dadcd",
   "metadata": {},
   "outputs": [],
   "source": [
    "llm = ChatGoogleGenerativeAI(model = \"gemini-1.5-pro\")"
   ]
  },
  {
   "cell_type": "code",
   "execution_count": 9,
   "id": "aa27f45a",
   "metadata": {},
   "outputs": [],
   "source": [
    "from langchain.agents import create_react_agent, AgentExecutor\n",
    "from langchain import hub"
   ]
  },
  {
   "cell_type": "code",
   "execution_count": 11,
   "id": "6b865dea",
   "metadata": {},
   "outputs": [],
   "source": [
    "prompt = hub.pull(\"hwchase17/react\")"
   ]
  },
  {
   "cell_type": "code",
   "execution_count": 12,
   "id": "fcd637b0",
   "metadata": {},
   "outputs": [],
   "source": [
    "agent = create_react_agent(\n",
    "    llm=llm,\n",
    "    tools=[search_tool],\n",
    "    prompt=prompt,\n",
    ")"
   ]
  },
  {
   "cell_type": "code",
   "execution_count": 13,
   "id": "bc2e23a5",
   "metadata": {},
   "outputs": [],
   "source": [
    "tools = [search_tool]"
   ]
  },
  {
   "cell_type": "code",
   "execution_count": 14,
   "id": "768a4e75",
   "metadata": {},
   "outputs": [],
   "source": [
    "AgentExecutor=AgentExecutor(\n",
    "    agent=agent,\n",
    "    tools=[search_tool],\n",
    "    verbose=True\n",
    ")"
   ]
  },
  {
   "cell_type": "code",
   "execution_count": 17,
   "id": "24f799ea",
   "metadata": {},
   "outputs": [
    {
     "name": "stdout",
     "output_type": "stream",
     "text": [
      "\n",
      "\n",
      "\u001b[1m> Entering new AgentExecutor chain...\u001b[0m\n",
      "\u001b[32;1m\u001b[1;3mQuestion: 3 ways to reach goa from kolhapur\n",
      "Thought: I can search for different transportation options between Kolhapur and Goa.\n",
      "Action: duckduckgo_search\n",
      "Action Input: \"how to reach goa from kolhapur\"\u001b[0m\u001b[36;1m\u001b[1;3mBuses from Kolhapur to Goa. The first bus starts from Kolhapur at 4:30 AM and the last bus leaves from Kolhapur at 6:25 AM. The minimum bus ticket booking fare is ₹ 411 and goes up to ₹ 2496 depending on the bus type and timings. The bus journey from Kolhapur to Goa is covered in approximately 4h 31m. Daily 4 buses operate from Kolhapur to Goa. The minimum duration of Ashoka Travels from Kolhapur(Maharashtra) to Goa bus is approximately 06:00:00. However, the duration of the journey may vary due to traffic, weather conditions or unavoidable circumstances. The first bus of Ashoka Travels from Kolhapur(Maharashtra) to Goa leaves at 23:30, while the last bus is at 23:30. Now, you know how to reach Goa by different modes of transportation. Conclusion: In conclusion, reaching Goa is an adventure in itself, offering a multitude of transportation options to suit every traveller's preference and budget. Whether you choose the scenic train route through the Western Ghats, the convenience of air travel, the charm of ... How to Reach Goa Using a Flight. Flying to Goa is the simplest and fastest way to get there. The main airport serving Goa is the Dabolim Airport (GOI) which is located in Vasco da Gama approximately 30 kilometers from Panaji the kingdom's capital. However, it takes a minimum of five hours to reach Panaji, the capital city of Goa. A large number of passengers from Sangli, Satara, and Pune drive to Kolhapur to take ghat routes to reach Goa.\u001b[0m\u001b[32;1m\u001b[1;3mThought: I have information about bus, train and flight but need to refine it to just three ways. I also need to clarify drive time.\n",
      "\n",
      "Action: duckduckgo_search\n",
      "Action Input: \"driving distance from kolhapur to goa\"\u001b[0m\u001b[36;1m\u001b[1;3mBook Taxi in Kolhapur for Goa trip. You can get here distance between Kolhapur To Goa, taxi fare, time taken by taxi journey through. Kolhapur To Goa roundtrip distance is approximately 440 Kms. For more information such as time, driving directions, road map etc click CCR's Kolhapur To Goa distance page. ... Distance/Driving Directions From Goa ... Pune - Kolhapur - Radhanagari - Goa. Distance: ~450 km; Estimated Time: 8-9 hours; Route Highlights: This is a lesser-known but equally beautiful Pune to Goa road. The Radhanagari Wildlife Sanctuary is a highlight, making it a great option for nature lovers. ... You can reach it by driving on NH 66 towards Cola Village or take a boat ride ... Day 5 ( 3rd Jan 2025 ) : Kolhapur to Anjuna beach, Goa, Distance - 195 kms. We had divided our Goa plan in two parts, North Goa for Sundowner and Club and South Goa just to laze and chill. As it was going to be a relaxed trip to Goa we decided to leave our Airbnb in Kolhapur at leisure so check-out around 9.30am from Kolhapur and reached our ... Best Route For R oad Trip, Indian Roadie Preferred Route, Best Intercity Driving Route, Motoring Route from . Kolhapur to Goa (Kolhapur_Goa), Kolhapur to Panjim (Kolhapur_Panjim), Kolhapur to Candolim (Kolhapur_Candolim), Kolhapur to Calangute (Kolhapur_Calangute): Total Distance: Approximately 470 km; Estimated Travel Time: 9 hours 30 minutes; Anuskura Ghat Route: A Smoother Ride ... Destination: Arambol, Goa; Arrival Time: 1 pm; Kolhapur Path: A Challenging Route. In contrast, the return journey via the Kolhapur path revealed several hurdles that made the trip less pleasant.\u001b[0m\u001b[32;1m\u001b[1;3mThought: I now have enough information to answer the question with three options and driving times.\n",
      "Final Answer: Three ways to reach Goa from Kolhapur are:\n",
      "\n",
      "1. **By Bus:** Several buses operate daily, taking approximately 4-6 hours.\n",
      "2. **By Car:** Driving takes around 8-9 hours, covering approximately 450 km via the Anuskura Ghat or the scenic Radhanagari route.\n",
      "3. **By Flight:** Fly from Kolhapur Airport to Goa's Dabolim Airport (GOI). While the flight itself is relatively quick, getting to/from airports and other logistics may add significant travel time.\u001b[0m\n",
      "\n",
      "\u001b[1m> Finished chain.\u001b[0m\n"
     ]
    }
   ],
   "source": [
    "response = AgentExecutor.invoke({\"input\":\"3 ways to reach goa from kolhapur\"})"
   ]
  },
  {
   "cell_type": "code",
   "execution_count": 18,
   "id": "d3a2f91a",
   "metadata": {},
   "outputs": [
    {
     "name": "stdout",
     "output_type": "stream",
     "text": [
      "\n",
      "\n",
      "\u001b[1m> Entering new AgentExecutor chain...\u001b[0m\n",
      "\u001b[32;1m\u001b[1;3mThought: I need to find the location of Kolhapur and its current weather. I can use DuckDuckGo search for this.\n",
      "\n",
      "Action: duckduckgo_search\n",
      "Action Input: \"weather in Kolhapur\"\u001b[0m\u001b[36;1m\u001b[1;3m12 day Kolhapur Weather Forecast. Live Weather Warnings, hourly weather updates. Accurate Kolhapur weather today, forecast for sun, rain, wind and temperature. Kolhapur - Weather forecast from Theweather.com. Weather conditions with updates on temperature, humidity, wind speed, snow, pressure, etc. for Kolhapur, Maharashtra Kolhapur Weather Forecasts. Weather Underground provides local & long-range weather forecasts, weatherreports, maps & tropical weather conditions for the Kolhapur area. Weather in Maharashtra, Kolhapur: Get the current weather, hourly and weekly weather forecast for Kolhapur, along with current temperature, rainfall, wind speed, humidity, air-quality, 15-days weather forecast and season trend for Kolhapur. Today, in Kolhapur, a combination of cloudy, lightning-active and rain-soaked weather is anticipated. Rainfall is forecasted from 7 am to 5 pm. With moderate precipitation of 6mm, most rainfall is expected at 3 pm. The temperature will vary between the lowest temperature of 24°C and the highest temperature of 31°C.\u001b[0m\u001b[32;1m\u001b[1;3mThought: I have the information I need. Kolhapur is in Maharashtra, India. The weather is a combination of cloudy, lightning-active and rain-soaked, with rainfall expected throughout the day. The temperature will range from 24°C to 31°C.\n",
      "\n",
      "Final Answer: Kolhapur is located in Maharashtra, India. The weather there is currently cloudy with lightning and rain expected, with temperatures ranging from 24°C to 31°C.\u001b[0m\n",
      "\n",
      "\u001b[1m> Finished chain.\u001b[0m\n"
     ]
    }
   ],
   "source": [
    "response = AgentExecutor.invoke({\"input\":\"where is kolhapur and what is the weather like there?\"})"
   ]
  },
  {
   "cell_type": "code",
   "execution_count": 19,
   "id": "fa741733",
   "metadata": {},
   "outputs": [
    {
     "data": {
      "text/plain": [
       "'Kolhapur is located in Maharashtra, India. The weather there is currently cloudy with lightning and rain expected, with temperatures ranging from 24°C to 31°C.'"
      ]
     },
     "execution_count": 19,
     "metadata": {},
     "output_type": "execute_result"
    }
   ],
   "source": [
    "response['output']"
   ]
  },
  {
   "cell_type": "code",
   "execution_count": null,
   "id": "4ae3c558",
   "metadata": {},
   "outputs": [],
   "source": []
  }
 ],
 "metadata": {
  "kernelspec": {
   "display_name": ".venv",
   "language": "python",
   "name": "python3"
  },
  "language_info": {
   "codemirror_mode": {
    "name": "ipython",
    "version": 3
   },
   "file_extension": ".py",
   "mimetype": "text/x-python",
   "name": "python",
   "nbconvert_exporter": "python",
   "pygments_lexer": "ipython3",
   "version": "3.12.3"
  }
 },
 "nbformat": 4,
 "nbformat_minor": 5
}
